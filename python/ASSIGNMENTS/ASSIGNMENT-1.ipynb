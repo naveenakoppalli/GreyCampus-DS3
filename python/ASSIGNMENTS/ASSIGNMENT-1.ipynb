{
 "cells": [
  {
   "cell_type": "code",
   "execution_count": 1,
   "metadata": {},
   "outputs": [],
   "source": [
    "#Import the Numpy package under the name np\n",
    "import numpy as np"
   ]
  },
  {
   "cell_type": "code",
   "execution_count": 2,
   "metadata": {},
   "outputs": [
    {
     "name": "stdout",
     "output_type": "stream",
     "text": [
      "[0. 0. 0. 0. 0. 0. 0. 0. 0. 0.]\n"
     ]
    }
   ],
   "source": [
    "#Create a null vector of size 10\n",
    "vector=np.zeros(10)\n",
    "print(vector)"
   ]
  },
  {
   "cell_type": "code",
   "execution_count": 3,
   "metadata": {},
   "outputs": [
    {
     "name": "stdout",
     "output_type": "stream",
     "text": [
      "[0. 0. 0. 0. 1. 0. 0. 0. 0. 0.]\n"
     ]
    }
   ],
   "source": [
    "#Create a null vector of size 10 but the fifth value which is 1\n",
    "vector=np.zeros(10)\n",
    "vector[4]=1\n",
    "print(vector)"
   ]
  },
  {
   "cell_type": "code",
   "execution_count": 4,
   "metadata": {},
   "outputs": [
    {
     "name": "stdout",
     "output_type": "stream",
     "text": [
      "[10 11 12 13 14 15 16 17 18 19 20 21 22 23 24 25 26 27 28 29 30 31 32 33\n",
      " 34 35 36 37 38 39 40 41 42 43 44 45 46 47 48]\n"
     ]
    }
   ],
   "source": [
    "#Create a vector with values ranging from 10 to 49\n",
    "x=np.arange(10,49)\n",
    "print(x)"
   ]
  },
  {
   "cell_type": "code",
   "execution_count": 27,
   "metadata": {},
   "outputs": [
    {
     "name": "stdout",
     "output_type": "stream",
     "text": [
      "the original vector [10 11 12 13 14]\n",
      "the reversed vector [14 13 12 11 10]\n"
     ]
    }
   ],
   "source": [
    "#Reverse a vector (the first element becomes last)\n",
    "V=np.arange(10,15)\n",
    "print(\"the original vector\",V)\n",
    "V=V[::-1]\n",
    "print(\"the reversed vector\",V)"
   ]
  },
  {
   "cell_type": "code",
   "execution_count": 6,
   "metadata": {},
   "outputs": [
    {
     "name": "stdout",
     "output_type": "stream",
     "text": [
      "[[0 1 2]\n",
      " [3 4 5]\n",
      " [6 7 8]]\n"
     ]
    }
   ],
   "source": [
    "#Create a 3x3 matrix with values ranging from 0 to 8\n",
    "A=np.arange(9).reshape(3,3)\n",
    "print(A)"
   ]
  },
  {
   "cell_type": "code",
   "execution_count": 35,
   "metadata": {},
   "outputs": [
    {
     "data": {
      "text/plain": [
       "(array([0, 0, 0], dtype=int64), array([0, 1, 4], dtype=int64))"
      ]
     },
     "execution_count": 35,
     "metadata": {},
     "output_type": "execute_result"
    }
   ],
   "source": [
    "#Find indices of non­zero elements from [1,2,0,0,4,0]\n",
    "a=np.array([[1,2,0,0,4,0]])\n",
    "np.nonzero(a)"
   ]
  },
  {
   "cell_type": "code",
   "execution_count": 17,
   "metadata": {},
   "outputs": [
    {
     "data": {
      "text/plain": [
       "array([[[0.23946584, 0.4505313 , 0.35540969],\n",
       "        [0.95800552, 0.16694322, 0.57125519],\n",
       "        [0.01904274, 0.87844549, 0.58949205]],\n",
       "\n",
       "       [[0.29687883, 0.7255763 , 0.39319433],\n",
       "        [0.45997433, 0.63076377, 0.63227021],\n",
       "        [0.56364753, 0.31838732, 0.04286734]],\n",
       "\n",
       "       [[0.50258279, 0.97961657, 0.53612818],\n",
       "        [0.99158654, 0.85481628, 0.18770734],\n",
       "        [0.74835324, 0.67886135, 0.84902771]]])"
      ]
     },
     "execution_count": 17,
     "metadata": {},
     "output_type": "execute_result"
    }
   ],
   "source": [
    "#Create a 3x3x3 array with random values\n",
    "np.random.random((3,3,3))"
   ]
  },
  {
   "cell_type": "code",
   "execution_count": 9,
   "metadata": {},
   "outputs": [
    {
     "name": "stdout",
     "output_type": "stream",
     "text": [
      "the mean is\n",
      "[0.87339997 0.83422642 0.39363717 0.08206143 0.37532653 0.13380816\n",
      " 0.58398728 0.71210423 0.53247611 0.03345478 0.47740258 0.20948382\n",
      " 0.91947868 0.76211633 0.67417725 0.70622721 0.95833197 0.00394992\n",
      " 0.78688298 0.0840536  0.4726129  0.29925837 0.5709783  0.84510239\n",
      " 0.45663821 0.35335926 0.02226186 0.25965598 0.29668697 0.36680653]\n"
     ]
    }
   ],
   "source": [
    "#Create a random vector of size 30 and find the mean value\n",
    "A=np.random.random((30))\n",
    "A.mean()\n",
    "print(\"the mean is\")\n",
    "print(A)"
   ]
  },
  {
   "cell_type": "code",
   "execution_count": 10,
   "metadata": {},
   "outputs": [
    {
     "name": "stdout",
     "output_type": "stream",
     "text": [
      "the original array [[1. 1. 1. 1. 1.]\n",
      " [1. 1. 1. 1. 1.]\n",
      " [1. 1. 1. 1. 1.]\n",
      " [1. 1. 1. 1. 1.]\n",
      " [1. 1. 1. 1. 1.]]\n",
      "with 1 on border and 0 inside [[1. 1. 1. 1. 1.]\n",
      " [1. 0. 0. 0. 1.]\n",
      " [1. 0. 0. 0. 1.]\n",
      " [1. 0. 0. 0. 1.]\n",
      " [1. 1. 1. 1. 1.]]\n"
     ]
    }
   ],
   "source": [
    "#Create a 2d array with 1 on the border and 0 inside\n",
    "x=np.ones((5,5))\n",
    "print(\"the original array\",x)\n",
    "x[1:-1,1:-1]=0\n",
    "print(\"with 1 on border and 0 inside\",x)"
   ]
  },
  {
   "cell_type": "code",
   "execution_count": 11,
   "metadata": {},
   "outputs": [],
   "source": [
    "#What is the major difference between sets, lists, tuples and dictionaries?\n",
    "##lists are defined in square brackets,and are used to store the values in rows or coulmns.it allows duplicate values\n",
    "##tuple is defined in (),it also allows duplicate values,they are immutable unlike lists\n",
    "###set is unordered colletion of elements and are defined using{}\n",
    "###dictionary is used to store the pair elements i.e, key and its value and it holds only single element"
   ]
  },
  {
   "cell_type": "code",
   "execution_count": 12,
   "metadata": {},
   "outputs": [
    {
     "name": "stdout",
     "output_type": "stream",
     "text": [
      "1\n",
      "2\n",
      "3\n",
      "4\n",
      "5\n",
      "6\n",
      "7\n",
      "8\n",
      "9\n",
      "10\n"
     ]
    }
   ],
   "source": [
    "#Print first 10 natural numbers using while loop\n",
    "a = 1\n",
    "while(a<=10):\n",
    "    print(a)\n",
    "    a += 1"
   ]
  },
  {
   "cell_type": "code",
   "execution_count": 13,
   "metadata": {},
   "outputs": [
    {
     "name": "stdout",
     "output_type": "stream",
     "text": [
      "-10\n",
      "-9\n",
      "-8\n",
      "-7\n",
      "-6\n",
      "-5\n",
      "-4\n",
      "-3\n",
      "-2\n",
      "-1\n"
     ]
    }
   ],
   "source": [
    "#Print the numbers -10 to -1 using for loop.\n",
    "for i in range(-10,0,1):\n",
    "    print(i)"
   ]
  },
  {
   "cell_type": "code",
   "execution_count": 14,
   "metadata": {},
   "outputs": [
    {
     "name": "stdout",
     "output_type": "stream",
     "text": [
      "0\n",
      "1\n",
      "Done!\n"
     ]
    }
   ],
   "source": [
    "#Print the message “Done” after successful execution of any for a loop. \n",
    "for i in range(2):\n",
    "    print(i)\n",
    "else:\n",
    "    print(\"Done!\")"
   ]
  },
  {
   "cell_type": "code",
   "execution_count": 15,
   "metadata": {},
   "outputs": [
    {
     "name": "stdout",
     "output_type": "stream",
     "text": [
      "the random vector [0.95829274 0.16384645 0.60389949 0.17308917 0.15992084 0.37511864\n",
      " 0.98451878 0.64888824 0.82488397 0.23918948]\n",
      "the sorted vector [0.15992084 0.16384645 0.17308917 0.23918948 0.37511864 0.60389949\n",
      " 0.64888824 0.82488397 0.95829274 0.98451878]\n"
     ]
    }
   ],
   "source": [
    "#Create a random vector of size 10 and sort it\n",
    "a=np.random.random((10))\n",
    "print(\"the random vector\",a)\n",
    "a.sort()\n",
    "print(\"the sorted vector\",a)"
   ]
  },
  {
   "cell_type": "code",
   "execution_count": 42,
   "metadata": {},
   "outputs": [
    {
     "name": "stdout",
     "output_type": "stream",
     "text": [
      "The sin value is\n",
      "[ 0.         -0.98803162 -0.30481062  0.89399666  0.58061118 -0.71487643\n",
      " -0.80115264]\n",
      "The cosine value is\n",
      "[ 1.          0.15425145 -0.95241298 -0.44807362  0.81418097  0.69925081\n",
      " -0.59846007]\n",
      "The tangent value is\n",
      "[ 0.         -6.4053312   0.32004039 -1.99520041  0.71312301 -1.02234624\n",
      "  1.33869021]\n"
     ]
    }
   ],
   "source": [
    "#Execute any three math functions using NumPy.\n",
    "import numpy as np  \n",
    "arr = np.array([0, 30, 60, 90, 120, 150, 180])  \n",
    "print(\"The sin value is\")  \n",
    "print(np.sin(arr))  \n",
    "print(\"The cosine value is\")  \n",
    "print(np.cos(arr))  \n",
    "print(\"The tangent value is\")  \n",
    "print(np.tan(arr))  "
   ]
  },
  {
   "cell_type": "code",
   "execution_count": null,
   "metadata": {},
   "outputs": [],
   "source": []
  }
 ],
 "metadata": {
  "kernelspec": {
   "display_name": "Python 3",
   "language": "python",
   "name": "python3"
  },
  "language_info": {
   "codemirror_mode": {
    "name": "ipython",
    "version": 3
   },
   "file_extension": ".py",
   "mimetype": "text/x-python",
   "name": "python",
   "nbconvert_exporter": "python",
   "pygments_lexer": "ipython3",
   "version": "3.8.5"
  }
 },
 "nbformat": 4,
 "nbformat_minor": 4
}
